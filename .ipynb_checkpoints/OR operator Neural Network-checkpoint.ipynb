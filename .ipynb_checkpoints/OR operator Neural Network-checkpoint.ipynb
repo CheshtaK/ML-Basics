{
 "cells": [
  {
   "cell_type": "code",
   "execution_count": 3,
   "metadata": {},
   "outputs": [],
   "source": [
    "import tflearn"
   ]
  },
  {
   "cell_type": "code",
   "execution_count": 4,
   "metadata": {},
   "outputs": [],
   "source": [
    "OR = [[0., 0.], [0., 1.], [1., 0.], [1., 1.]]\n",
    "Y_truth = [[0.], [1.], [1.], [1.]]"
   ]
  },
  {
   "cell_type": "code",
   "execution_count": 5,
   "metadata": {},
   "outputs": [],
   "source": [
    "neural_net = tflearn.input_data(shape=[None,2])\n",
    "neural_net = tflearn.fully_connected(neural_net, 1, activation='sigmoid')\n",
    "neural_net = tflearn.regression(neural_net, optimizer='sgd', learning_rate=2, loss='mean_square')"
   ]
  },
  {
   "cell_type": "code",
   "execution_count": 6,
   "metadata": {},
   "outputs": [
    {
     "name": "stdout",
     "output_type": "stream",
     "text": [
      "Training Step: 2000  | total loss: \u001b[1m\u001b[32m0.01379\u001b[0m\u001b[0m | time: 0.003s\n",
      "\u001b[2K\r",
      "| SGD | epoch: 2000 | loss: 0.01379 -- iter: 4/4\n"
     ]
    }
   ],
   "source": [
    "model = tflearn.DNN(neural_net)\n",
    "model.fit(OR, Y_truth, n_epoch=2000, snapshot_epoch=False)"
   ]
  },
  {
   "cell_type": "code",
   "execution_count": 9,
   "metadata": {},
   "outputs": [
    {
     "name": "stdout",
     "output_type": "stream",
     "text": [
      "0 or 0:  [[0.05382838]]\n",
      "0 or 1:  [[0.97253126]]\n",
      "1 or 0:  [[0.97139186]]\n",
      "1 or 1:  [[0.9999527]]\n"
     ]
    }
   ],
   "source": [
    "print(\"0 or 0: \", model.predict([[0., 0.]]))\n",
    "print(\"0 or 1: \", model.predict([[0., 1.]]))\n",
    "print(\"1 or 0: \", model.predict([[1., 0.]]))\n",
    "print(\"1 or 1: \", model.predict([[1., 1.]]))"
   ]
  },
  {
   "cell_type": "code",
   "execution_count": null,
   "metadata": {},
   "outputs": [],
   "source": []
  }
 ],
 "metadata": {
  "kernelspec": {
   "display_name": "Python 3",
   "language": "python",
   "name": "python3"
  },
  "language_info": {
   "codemirror_mode": {
    "name": "ipython",
    "version": 3
   },
   "file_extension": ".py",
   "mimetype": "text/x-python",
   "name": "python",
   "nbconvert_exporter": "python",
   "pygments_lexer": "ipython3",
   "version": "3.6.8"
  }
 },
 "nbformat": 4,
 "nbformat_minor": 2
}
