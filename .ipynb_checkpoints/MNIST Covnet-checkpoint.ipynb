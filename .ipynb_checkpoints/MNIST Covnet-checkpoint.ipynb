{
 "cells": [
  {
   "cell_type": "markdown",
   "metadata": {},
   "source": [
    "## Classify MNIST Dataset"
   ]
  },
  {
   "cell_type": "code",
   "execution_count": 1,
   "metadata": {},
   "outputs": [],
   "source": [
    "from keras.layers import *\n",
    "from keras.models import Sequential"
   ]
  },
  {
   "cell_type": "markdown",
   "metadata": {},
   "source": [
    "### Building a model"
   ]
  },
  {
   "cell_type": "code",
   "execution_count": 9,
   "metadata": {},
   "outputs": [],
   "source": [
    "model = Sequential()\n",
    "model.add(Conv2D(32, (3,3), activation='relu', input_shape=(28,28,1)))\n",
    "model.add(MaxPool2D((2,2)))\n",
    "model.add(Conv2D(64, (3,3), activation='relu'))\n",
    "model.add(MaxPool2D((2,2)))\n",
    "model.add(Conv2D(64, (3,3), activation='relu'))\n",
    "model.add(Flatten())\n",
    "model.add(Dense(64, activation='relu'))\n",
    "model.add(Dense(10, activation='softmax'))"
   ]
  },
  {
   "cell_type": "code",
   "execution_count": 10,
   "metadata": {},
   "outputs": [
    {
     "name": "stdout",
     "output_type": "stream",
     "text": [
      "_________________________________________________________________\n",
      "Layer (type)                 Output Shape              Param #   \n",
      "=================================================================\n",
      "conv2d_10 (Conv2D)           (None, 26, 26, 32)        320       \n",
      "_________________________________________________________________\n",
      "max_pooling2d_8 (MaxPooling2 (None, 13, 13, 32)        0         \n",
      "_________________________________________________________________\n",
      "conv2d_11 (Conv2D)           (None, 11, 11, 64)        18496     \n",
      "_________________________________________________________________\n",
      "max_pooling2d_9 (MaxPooling2 (None, 5, 5, 64)          0         \n",
      "_________________________________________________________________\n",
      "conv2d_12 (Conv2D)           (None, 3, 3, 64)          36928     \n",
      "_________________________________________________________________\n",
      "flatten_2 (Flatten)          (None, 576)               0         \n",
      "_________________________________________________________________\n",
      "dense_1 (Dense)              (None, 64)                36928     \n",
      "_________________________________________________________________\n",
      "dense_2 (Dense)              (None, 10)                650       \n",
      "=================================================================\n",
      "Total params: 93,322\n",
      "Trainable params: 93,322\n",
      "Non-trainable params: 0\n",
      "_________________________________________________________________\n"
     ]
    }
   ],
   "source": [
    "model.summary()"
   ]
  },
  {
   "cell_type": "code",
   "execution_count": 11,
   "metadata": {},
   "outputs": [],
   "source": [
    "from keras.datasets import mnist\n",
    "from keras.utils import to_categorical"
   ]
  },
  {
   "cell_type": "code",
   "execution_count": 20,
   "metadata": {},
   "outputs": [],
   "source": [
    "(XTrain, YTrain), (XTest, YTest) = mnist.load_data()"
   ]
  },
  {
   "cell_type": "code",
   "execution_count": 21,
   "metadata": {},
   "outputs": [
    {
     "data": {
      "text/plain": [
       "(60000, 28, 28)"
      ]
     },
     "execution_count": 21,
     "metadata": {},
     "output_type": "execute_result"
    }
   ],
   "source": [
    "XTrain.shape"
   ]
  },
  {
   "cell_type": "code",
   "execution_count": 22,
   "metadata": {},
   "outputs": [],
   "source": [
    "def preprocess_data(X, Y):\n",
    "    X = X.reshape((-1,28,28,1))\n",
    "    X = X/255.0\n",
    "    \n",
    "    Y = to_categorical(Y)\n",
    "    return X,Y"
   ]
  },
  {
   "cell_type": "code",
   "execution_count": 23,
   "metadata": {},
   "outputs": [],
   "source": [
    "XTrain, YTrain = preprocess_data(XTrain, YTrain)\n",
    "XTest, YTest = preprocess_data(XTest, YTest)"
   ]
  },
  {
   "cell_type": "code",
   "execution_count": 24,
   "metadata": {},
   "outputs": [],
   "source": [
    "#Compile\n",
    "model.compile(optimizer='adam', loss='categorical_crossentropy', metrics=['accuracy'])"
   ]
  },
  {
   "cell_type": "code",
   "execution_count": 26,
   "metadata": {},
   "outputs": [
    {
     "name": "stdout",
     "output_type": "stream",
     "text": [
      "Train on 54000 samples, validate on 6000 samples\n",
      "Epoch 1/20\n",
      "54000/54000 [==============================] - 85s 2ms/step - loss: 0.2452 - acc: 0.9247 - val_loss: 0.0731 - val_acc: 0.9788\n",
      "Epoch 2/20\n",
      "54000/54000 [==============================] - 79s 1ms/step - loss: 0.0701 - acc: 0.9779 - val_loss: 0.0490 - val_acc: 0.9852\n",
      "Epoch 3/20\n",
      "54000/54000 [==============================] - 85s 2ms/step - loss: 0.0467 - acc: 0.9846 - val_loss: 0.0495 - val_acc: 0.9860\n",
      "Epoch 4/20\n",
      "54000/54000 [==============================] - 85s 2ms/step - loss: 0.0363 - acc: 0.9886 - val_loss: 0.0450 - val_acc: 0.9862\n",
      "Epoch 5/20\n",
      "54000/54000 [==============================] - 84s 2ms/step - loss: 0.0297 - acc: 0.9908 - val_loss: 0.0397 - val_acc: 0.9887\n",
      "Epoch 6/20\n",
      "54000/54000 [==============================] - 81s 1ms/step - loss: 0.0241 - acc: 0.9921 - val_loss: 0.0378 - val_acc: 0.9882\n",
      "Epoch 7/20\n",
      "54000/54000 [==============================] - 79s 1ms/step - loss: 0.0205 - acc: 0.9933 - val_loss: 0.0350 - val_acc: 0.9892\n",
      "Epoch 8/20\n",
      "54000/54000 [==============================] - 75s 1ms/step - loss: 0.0171 - acc: 0.9941 - val_loss: 0.0360 - val_acc: 0.9895\n",
      "Epoch 9/20\n",
      "54000/54000 [==============================] - 76s 1ms/step - loss: 0.0158 - acc: 0.9949 - val_loss: 0.0389 - val_acc: 0.9882\n",
      "Epoch 10/20\n",
      "54000/54000 [==============================] - 74s 1ms/step - loss: 0.0140 - acc: 0.9953 - val_loss: 0.0335 - val_acc: 0.9908\n",
      "Epoch 11/20\n",
      "54000/54000 [==============================] - 74s 1ms/step - loss: 0.0109 - acc: 0.9965 - val_loss: 0.0424 - val_acc: 0.9893\n",
      "Epoch 12/20\n",
      "54000/54000 [==============================] - 77s 1ms/step - loss: 0.0088 - acc: 0.9972 - val_loss: 0.0395 - val_acc: 0.9880\n",
      "Epoch 13/20\n",
      "54000/54000 [==============================] - 76s 1ms/step - loss: 0.0087 - acc: 0.9971 - val_loss: 0.0469 - val_acc: 0.9890\n",
      "Epoch 14/20\n",
      "54000/54000 [==============================] - 81s 1ms/step - loss: 0.0088 - acc: 0.9967 - val_loss: 0.0381 - val_acc: 0.9902\n",
      "Epoch 15/20\n",
      "54000/54000 [==============================] - 76s 1ms/step - loss: 0.0071 - acc: 0.9975 - val_loss: 0.0425 - val_acc: 0.9900\n",
      "Epoch 16/20\n",
      "54000/54000 [==============================] - 78s 1ms/step - loss: 0.0085 - acc: 0.9969 - val_loss: 0.0435 - val_acc: 0.9897\n",
      "Epoch 17/20\n",
      "54000/54000 [==============================] - 84s 2ms/step - loss: 0.0041 - acc: 0.9988 - val_loss: 0.0395 - val_acc: 0.9917\n",
      "Epoch 18/20\n",
      "54000/54000 [==============================] - 80s 1ms/step - loss: 0.0041 - acc: 0.9987 - val_loss: 0.0435 - val_acc: 0.9897\n",
      "Epoch 19/20\n",
      "54000/54000 [==============================] - 70s 1ms/step - loss: 0.0073 - acc: 0.9974 - val_loss: 0.0379 - val_acc: 0.9925\n",
      "Epoch 20/20\n",
      "54000/54000 [==============================] - 82s 2ms/step - loss: 0.0046 - acc: 0.9983 - val_loss: 0.0465 - val_acc: 0.9910\n"
     ]
    }
   ],
   "source": [
    "#Fit\n",
    "hist = model.fit(XTrain, YTrain, epochs=20, validation_split=0.1, batch_size=128)"
   ]
  },
  {
   "cell_type": "code",
   "execution_count": 27,
   "metadata": {},
   "outputs": [
    {
     "name": "stdout",
     "output_type": "stream",
     "text": [
      "10000/10000 [==============================] - 4s 427us/step\n"
     ]
    },
    {
     "data": {
      "text/plain": [
       "[0.037270944315344376, 0.9915]"
      ]
     },
     "execution_count": 27,
     "metadata": {},
     "output_type": "execute_result"
    }
   ],
   "source": [
    "model.evaluate(XTest, YTest)"
   ]
  },
  {
   "cell_type": "code",
   "execution_count": null,
   "metadata": {},
   "outputs": [],
   "source": []
  }
 ],
 "metadata": {
  "kernelspec": {
   "display_name": "Python 3",
   "language": "python",
   "name": "python3"
  },
  "language_info": {
   "codemirror_mode": {
    "name": "ipython",
    "version": 3
   },
   "file_extension": ".py",
   "mimetype": "text/x-python",
   "name": "python",
   "nbconvert_exporter": "python",
   "pygments_lexer": "ipython3",
   "version": "3.6.8"
  }
 },
 "nbformat": 4,
 "nbformat_minor": 2
}
