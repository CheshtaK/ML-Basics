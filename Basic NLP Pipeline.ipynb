{
 "cells": [
  {
   "cell_type": "markdown",
   "metadata": {},
   "source": [
    "## Basic NLP Pipeline\n",
    "- Data Collection\n",
    "- Tokenization, Stopwords, Stemming, Lemmatization\n",
    "- Building a common vocab\n",
    "- Vectorizing the documents\n",
    "- Performing classification/Clusteringrpus"
   ]
  },
  {
   "cell_type": "markdown",
   "metadata": {},
   "source": [
    "### Data Collection"
   ]
  },
  {
   "cell_type": "code",
   "execution_count": 1,
   "metadata": {},
   "outputs": [],
   "source": [
    "from nltk.corpus import brown"
   ]
  },
  {
   "cell_type": "code",
   "execution_count": 3,
   "metadata": {},
   "outputs": [
    {
     "name": "stdout",
     "output_type": "stream",
     "text": [
      "['adventure', 'belles_lettres', 'editorial', 'fiction', 'government', 'hobbies', 'humor', 'learned', 'lore', 'mystery', 'news', 'religion', 'reviews', 'romance', 'science_fiction']\n"
     ]
    }
   ],
   "source": [
    "print(brown.categories())"
   ]
  },
  {
   "cell_type": "code",
   "execution_count": 8,
   "metadata": {},
   "outputs": [],
   "source": [
    "data = brown.sents(categories='editorial')[:100]"
   ]
  },
  {
   "cell_type": "code",
   "execution_count": 9,
   "metadata": {},
   "outputs": [
    {
     "name": "stdout",
     "output_type": "stream",
     "text": [
      "[['Assembly', 'session', 'brought', 'much', 'good'], ['The', 'General', 'Assembly', ',', 'which', 'adjourns', 'today', ',', 'has', 'performed', 'in', 'an', 'atmosphere', 'of', 'crisis', 'and', 'struggle', 'from', 'the', 'day', 'it', 'convened', '.'], ...]\n"
     ]
    }
   ],
   "source": [
    "print(data)"
   ]
  },
  {
   "cell_type": "markdown",
   "metadata": {},
   "source": [
    "### Tokenization"
   ]
  },
  {
   "cell_type": "code",
   "execution_count": 6,
   "metadata": {},
   "outputs": [
    {
     "name": "stdout",
     "output_type": "stream",
     "text": [
      "It was a very pleasant day, the weather was cool and there were light showers. I went to the market to buy some fruits.\n"
     ]
    }
   ],
   "source": [
    "text = \"It was a very pleasant day, the weather was cool and there were light showers. I went to the market to buy some fruits.\"\n",
    "print(text)"
   ]
  },
  {
   "cell_type": "code",
   "execution_count": 7,
   "metadata": {},
   "outputs": [],
   "source": [
    "from nltk.tokenize import sent_tokenize, word_tokenize"
   ]
  },
  {
   "cell_type": "code",
   "execution_count": 8,
   "metadata": {},
   "outputs": [
    {
     "name": "stdout",
     "output_type": "stream",
     "text": [
      "['It was a very pleasant day, the weather was cool and there were light showers.', 'I went to the market to buy some fruits.']\n"
     ]
    }
   ],
   "source": [
    "sents = sent_tokenize(text)\n",
    "print(sents)"
   ]
  },
  {
   "cell_type": "code",
   "execution_count": 9,
   "metadata": {},
   "outputs": [
    {
     "name": "stdout",
     "output_type": "stream",
     "text": [
      "['it', 'was', 'a', 'very', 'pleasant', 'day', ',', 'the', 'weather', 'was', 'cool', 'and', 'there', 'were', 'light', 'showers', '.']\n"
     ]
    }
   ],
   "source": [
    "words = word_tokenize(sents[0].lower())\n",
    "print(words)"
   ]
  },
  {
   "cell_type": "markdown",
   "metadata": {},
   "source": [
    "### Stopword Removal"
   ]
  },
  {
   "cell_type": "code",
   "execution_count": 10,
   "metadata": {},
   "outputs": [
    {
     "name": "stdout",
     "output_type": "stream",
     "text": [
      "{'should', 'will', 'being', 'for', 'hadn', \"shouldn't\", 'the', 'mightn', 'i', 'from', \"isn't\", 'not', 'her', 'of', 'before', \"hadn't\", 'own', 'same', \"wouldn't\", 'hers', 'having', 'under', 'once', 'any', 'were', 'than', 'be', 'at', 'an', 'these', 'above', 'down', 'yours', \"should've\", 'until', 's', \"haven't\", 'now', 'so', 'o', 'themselves', 'hasn', 'doing', 'won', 'isn', 'in', 'don', 'shouldn', 'weren', 'your', 'aren', 'they', \"weren't\", 'then', 'what', 'most', 'to', 'more', 'but', 'himself', 'theirs', 'was', 'and', 'between', \"won't\", \"hasn't\", 'does', 'here', 'ain', \"aren't\", 'yourself', 'how', 'very', 'with', 'below', 'wasn', 've', 'shan', 'she', 'itself', 'which', 'been', 'couldn', \"don't\", 'while', 'a', 'about', 'had', 'only', 'just', 'do', 'doesn', 'can', 'where', 'their', \"mustn't\", 'against', 'why', 'on', 'as', \"wasn't\", 'by', 'he', 'nor', 'wouldn', 'if', 'out', \"doesn't\", 'such', 'into', 'y', 'few', 'too', \"it's\", 'll', 'it', 'our', 'd', 'yourselves', 'ourselves', 'over', \"couldn't\", 'you', \"that'll\", 'no', 'ours', 'them', 'his', 'are', 'him', 'both', 'all', 'other', 'haven', 'during', 'that', 'is', 'me', 'those', 'again', \"shan't\", 'did', 'some', \"needn't\", 'its', 'this', 't', 'there', 'when', 'we', \"you're\", 'am', 'have', \"didn't\", \"mightn't\", 'through', 'herself', 'further', 'needn', 'mustn', 'm', \"you'd\", \"you'll\", 'each', 'after', 'has', \"you've\", 'or', 'myself', 'who', \"she's\", 'my', 'didn', 're', 'because', 'up', 'whom', 'off', 'ma'}\n"
     ]
    }
   ],
   "source": [
    "from nltk.corpus import stopwords\n",
    "\n",
    "sw = set(stopwords.words('english'))\n",
    "print(sw)"
   ]
  },
  {
   "cell_type": "markdown",
   "metadata": {},
   "source": [
    "#### Filter words from the sentence"
   ]
  },
  {
   "cell_type": "code",
   "execution_count": 11,
   "metadata": {},
   "outputs": [
    {
     "name": "stdout",
     "output_type": "stream",
     "text": [
      "['pleasant', 'day', ',', 'weather', 'cool', 'light', 'showers', '.']\n"
     ]
    }
   ],
   "source": [
    "useful_words = [w for w in words if w not in sw]\n",
    "print(useful_words)"
   ]
  },
  {
   "cell_type": "markdown",
   "metadata": {},
   "source": [
    "### Tokenization using Regular Expression\n",
    "Problem with Word Tokenizer - Can't handle complex tokenizations. So we use a Regexp Tokenizer Class in NLTK"
   ]
  },
  {
   "cell_type": "code",
   "execution_count": 12,
   "metadata": {},
   "outputs": [],
   "source": [
    "from nltk.tokenize import RegexpTokenizer"
   ]
  },
  {
   "cell_type": "code",
   "execution_count": 13,
   "metadata": {},
   "outputs": [],
   "source": [
    "tokenizer = RegexpTokenizer(\"[a-zA-Z@]+\")"
   ]
  },
  {
   "cell_type": "code",
   "execution_count": 14,
   "metadata": {},
   "outputs": [
    {
     "name": "stdout",
     "output_type": "stream",
     "text": [
      "['Send', 'all', 'the', 'documents', 'related', 'to', 'clauses', 'at', 'abc@xyz', 'com']\n"
     ]
    }
   ],
   "source": [
    "text = \"Send all the 50 documents related to clauses 1,2,3 at abc@xyz.com\"\n",
    "\n",
    "print(tokenizer.tokenize(text))"
   ]
  },
  {
   "cell_type": "markdown",
   "metadata": {},
   "source": [
    "### Stemming\n",
    "- Process that transforms particular words(verbs, plural) into their radical form\n",
    "- Preserve the semantics of the sentence without increasing the number of unique tokens\n",
    "- jumps, jumping, jumped, jump ==> jum"
   ]
  },
  {
   "cell_type": "code",
   "execution_count": 15,
   "metadata": {},
   "outputs": [
    {
     "name": "stdout",
     "output_type": "stream",
     "text": [
      "['foxes', 'love', 'to', 'make', 'jumps', 'the', 'quick', 'brown', 'fox', 'was', 'seen', 'jumping', 'over', 'the', 'lovely', 'dog', 'from', 'a', 'ft', 'feet', 'high', 'wall']\n"
     ]
    }
   ],
   "source": [
    "text = \"Foxes love to make jumps. The quick brown fox was seen jumping over the lovely dog from a 6ft feet high wall\"\n",
    "\n",
    "words = tokenizer.tokenize(text.lower())\n",
    "print(words)"
   ]
  },
  {
   "cell_type": "code",
   "execution_count": 16,
   "metadata": {},
   "outputs": [
    {
     "name": "stdout",
     "output_type": "stream",
     "text": [
      "['foxes', 'love', 'make', 'jumps', 'quick', 'brown', 'fox', 'seen', 'jumping', 'lovely', 'dog', 'ft', 'feet', 'high', 'wall']\n"
     ]
    }
   ],
   "source": [
    "words = [w for w in words if w not in sw]\n",
    "print(words)"
   ]
  },
  {
   "cell_type": "markdown",
   "metadata": {},
   "source": [
    "### Stemmers \n",
    "- 1) Snowball Stemmer (Multilingual) \n",
    "- 2) Porter Stemmer (English)\n",
    "- 3) Lancaster Stemmer (English)"
   ]
  },
  {
   "cell_type": "code",
   "execution_count": 17,
   "metadata": {},
   "outputs": [],
   "source": [
    "from nltk.stem.snowball import PorterStemmer, SnowballStemmer\n",
    "from nltk.stem.lancaster import LancasterStemmer\n",
    "\n",
    "ps = PorterStemmer()"
   ]
  },
  {
   "cell_type": "code",
   "execution_count": 18,
   "metadata": {},
   "outputs": [
    {
     "data": {
      "text/plain": [
       "'jump'"
      ]
     },
     "execution_count": 18,
     "metadata": {},
     "output_type": "execute_result"
    }
   ],
   "source": [
    "ps.stem(\"jumps\")"
   ]
  },
  {
   "cell_type": "code",
   "execution_count": 19,
   "metadata": {},
   "outputs": [
    {
     "data": {
      "text/plain": [
       "'love'"
      ]
     },
     "execution_count": 19,
     "metadata": {},
     "output_type": "execute_result"
    }
   ],
   "source": [
    "ps.stem(\"lovely\")"
   ]
  },
  {
   "cell_type": "code",
   "execution_count": 20,
   "metadata": {},
   "outputs": [
    {
     "data": {
      "text/plain": [
       "'awesom'"
      ]
     },
     "execution_count": 20,
     "metadata": {},
     "output_type": "execute_result"
    }
   ],
   "source": [
    "ps.stem(\"awesome\")"
   ]
  },
  {
   "cell_type": "code",
   "execution_count": 21,
   "metadata": {},
   "outputs": [
    {
     "data": {
      "text/plain": [
       "'tee'"
      ]
     },
     "execution_count": 21,
     "metadata": {},
     "output_type": "execute_result"
    }
   ],
   "source": [
    "ls = LancasterStemmer()\n",
    "ls.stem(\"teeth\")"
   ]
  },
  {
   "cell_type": "code",
   "execution_count": 22,
   "metadata": {},
   "outputs": [
    {
     "name": "stdout",
     "output_type": "stream",
     "text": [
      "teenag\n",
      "teen\n"
     ]
    }
   ],
   "source": [
    "print(ps.stem(\"teenager\"))\n",
    "print(ls.stem(\"teenager\"))"
   ]
  },
  {
   "cell_type": "code",
   "execution_count": 23,
   "metadata": {},
   "outputs": [
    {
     "name": "stdout",
     "output_type": "stream",
     "text": [
      "love\n",
      "teenag\n"
     ]
    }
   ],
   "source": [
    "ss = SnowballStemmer('english')\n",
    "print(ss.stem('lovely'))\n",
    "print(ss.stem('teenager'))"
   ]
  },
  {
   "cell_type": "code",
   "execution_count": 24,
   "metadata": {},
   "outputs": [
    {
     "name": "stdout",
     "output_type": "stream",
     "text": [
      "courai\n"
     ]
    }
   ],
   "source": [
    "ss_french = SnowballStemmer('french')\n",
    "print(ss.stem('courais'))"
   ]
  },
  {
   "cell_type": "markdown",
   "metadata": {},
   "source": [
    "### Lemmatization"
   ]
  },
  {
   "cell_type": "code",
   "execution_count": 25,
   "metadata": {},
   "outputs": [
    {
     "data": {
      "text/plain": [
       "'cry'"
      ]
     },
     "execution_count": 25,
     "metadata": {},
     "output_type": "execute_result"
    }
   ],
   "source": [
    "from nltk.stem import WordNetLemmatizer\n",
    "\n",
    "l = WordNetLemmatizer()\n",
    "l.lemmatize(\"crying\")"
   ]
  },
  {
   "cell_type": "markdown",
   "metadata": {},
   "source": [
    "### Building Common Vocabulary and Vectoring Documents (based upon Bag of Words Model)"
   ]
  },
  {
   "cell_type": "code",
   "execution_count": 26,
   "metadata": {},
   "outputs": [],
   "source": [
    "corpus = ['Indian cricket team will win World Cup, says Capt. Virat Kohli', \n",
    "          'We will win the next Lok Sabha Elections, says confident Indian PM', \n",
    "          'The nobel laurate won the hearts of the people', \n",
    "          'The movie Raazi is an exciting Indian spy thriller based upon a real story']"
   ]
  },
  {
   "cell_type": "code",
   "execution_count": 27,
   "metadata": {},
   "outputs": [],
   "source": [
    "from sklearn.feature_extraction.text import CountVectorizer"
   ]
  },
  {
   "cell_type": "code",
   "execution_count": 28,
   "metadata": {},
   "outputs": [],
   "source": [
    "cv = CountVectorizer()"
   ]
  },
  {
   "cell_type": "code",
   "execution_count": 29,
   "metadata": {},
   "outputs": [],
   "source": [
    "vectorized_corpus = cv.fit_transform(corpus).toarray()"
   ]
  },
  {
   "cell_type": "code",
   "execution_count": 30,
   "metadata": {},
   "outputs": [
    {
     "data": {
      "text/plain": [
       "array([[0, 0, 1, 0, 1, 1, 0, 0, 0, 1, 0, 1, 0, 0, 0, 0, 0, 0, 0, 0, 0, 0,\n",
       "        0, 1, 0, 0, 1, 0, 0, 0, 1, 0, 1, 1, 0, 1],\n",
       "       [0, 0, 0, 1, 0, 0, 1, 0, 0, 1, 0, 0, 0, 1, 0, 1, 0, 0, 0, 1, 0, 0,\n",
       "        1, 1, 0, 0, 0, 1, 0, 0, 0, 1, 1, 1, 0, 0],\n",
       "       [0, 0, 0, 0, 0, 0, 0, 0, 1, 0, 0, 0, 1, 0, 0, 0, 1, 1, 1, 0, 0, 0,\n",
       "        0, 0, 0, 0, 0, 3, 0, 0, 0, 0, 0, 0, 1, 0],\n",
       "       [1, 1, 0, 0, 0, 0, 0, 1, 0, 1, 1, 0, 0, 0, 1, 0, 0, 0, 0, 0, 1, 1,\n",
       "        0, 0, 1, 1, 0, 1, 1, 1, 0, 0, 0, 0, 0, 0]], dtype=int64)"
      ]
     },
     "execution_count": 30,
     "metadata": {},
     "output_type": "execute_result"
    }
   ],
   "source": [
    "vectorized_corpus"
   ]
  },
  {
   "cell_type": "code",
   "execution_count": 31,
   "metadata": {},
   "outputs": [
    {
     "name": "stdout",
     "output_type": "stream",
     "text": [
      "{'indian': 9, 'cricket': 4, 'team': 26, 'will': 32, 'win': 33, 'world': 35, 'cup': 5, 'says': 23, 'capt': 2, 'virat': 30, 'kohli': 11, 'we': 31, 'the': 27, 'next': 15, 'lok': 13, 'sabha': 22, 'elections': 6, 'confident': 3, 'pm': 19, 'nobel': 16, 'laurate': 12, 'won': 34, 'hearts': 8, 'of': 17, 'people': 18, 'movie': 14, 'raazi': 20, 'is': 10, 'an': 0, 'exciting': 7, 'spy': 24, 'thriller': 28, 'based': 1, 'upon': 29, 'real': 21, 'story': 25}\n"
     ]
    }
   ],
   "source": [
    "print(cv.vocabulary_) #Dictionary - Word -> Index"
   ]
  },
  {
   "cell_type": "code",
   "execution_count": 32,
   "metadata": {},
   "outputs": [
    {
     "name": "stdout",
     "output_type": "stream",
     "text": [
      "[1. 1. 1. 0. 0. 0. 0. 1. 1. 1. 1. 1. 1. 1. 1. 1. 1. 1. 1. 1. 1. 1. 1. 1.\n",
      " 1. 1. 1. 1. 1. 1. 1. 1. 1. 1. 1. 1.]\n"
     ]
    }
   ],
   "source": [
    "## Given a vector what is the sentence?\n",
    "\n",
    "import numpy as np\n",
    "\n",
    "vector = np.ones((36,))\n",
    "vector[3:7] = 0\n",
    "print(vector)"
   ]
  },
  {
   "cell_type": "code",
   "execution_count": 33,
   "metadata": {},
   "outputs": [
    {
     "name": "stdout",
     "output_type": "stream",
     "text": [
      "[array(['an', 'based', 'capt', 'exciting', 'hearts', 'indian', 'is',\n",
      "       'kohli', 'laurate', 'lok', 'movie', 'next', 'nobel', 'of',\n",
      "       'people', 'pm', 'raazi', 'real', 'sabha', 'says', 'spy', 'story',\n",
      "       'team', 'the', 'thriller', 'upon', 'virat', 'we', 'will', 'win',\n",
      "       'won', 'world'], dtype='<U9')]\n"
     ]
    }
   ],
   "source": [
    "print(cv.inverse_transform(vector))"
   ]
  },
  {
   "cell_type": "code",
   "execution_count": 34,
   "metadata": {},
   "outputs": [
    {
     "data": {
      "text/plain": [
       "2"
      ]
     },
     "execution_count": 34,
     "metadata": {},
     "output_type": "execute_result"
    }
   ],
   "source": [
    "cv.vocabulary_[\"capt\"]"
   ]
  },
  {
   "cell_type": "markdown",
   "metadata": {},
   "source": [
    "### Effectively reduce the size of the vector"
   ]
  },
  {
   "cell_type": "code",
   "execution_count": 35,
   "metadata": {},
   "outputs": [
    {
     "data": {
      "text/plain": [
       "['indian',\n",
       " 'cricket',\n",
       " 'team',\n",
       " 'win',\n",
       " 'world',\n",
       " 'cup',\n",
       " 'says',\n",
       " 'capt',\n",
       " 'virat',\n",
       " 'kohli']"
      ]
     },
     "execution_count": 35,
     "metadata": {},
     "output_type": "execute_result"
    }
   ],
   "source": [
    "def myTokenizer(sentence):\n",
    "    words = tokenizer.tokenize(sentence.lower())\n",
    "    return [w for w in words if w not in sw]\n",
    "\n",
    "myTokenizer(corpus[0])"
   ]
  },
  {
   "cell_type": "code",
   "execution_count": 36,
   "metadata": {},
   "outputs": [
    {
     "name": "stdout",
     "output_type": "stream",
     "text": [
      "[0 1 0 1 1 0 0 0 1 1 0 0 0 0 0 0 0 0 0 0 1 0 0 1 0 0 1 1 1]\n",
      "29\n"
     ]
    }
   ],
   "source": [
    "cv = CountVectorizer(tokenizer=myTokenizer)\n",
    "vectorized_corpus = cv.fit_transform(corpus)\n",
    "vc = vectorized_corpus.toarray()\n",
    "\n",
    "print(vc[0])\n",
    "print(len(vc[0]))"
   ]
  },
  {
   "cell_type": "code",
   "execution_count": 37,
   "metadata": {},
   "outputs": [
    {
     "data": {
      "text/plain": [
       "[array(['capt', 'cricket', 'cup', 'indian', 'kohli', 'says', 'team',\n",
       "        'virat', 'win', 'world'], dtype='<U9')]"
      ]
     },
     "execution_count": 37,
     "metadata": {},
     "output_type": "execute_result"
    }
   ],
   "source": [
    "v = vc[0]\n",
    "cv.inverse_transform(v)"
   ]
  },
  {
   "cell_type": "code",
   "execution_count": 38,
   "metadata": {},
   "outputs": [
    {
     "name": "stdout",
     "output_type": "stream",
     "text": [
      "[1 1 0 1 1 0 0 0 1 1 0 0 0 0 0 0 0 0 0 0 1 0 0 1 0 0 1 1 1]\n"
     ]
    },
    {
     "data": {
      "text/plain": [
       "[array(['based', 'capt', 'cricket', 'cup', 'indian', 'kohli', 'says',\n",
       "        'team', 'virat', 'win', 'world'], dtype='<U9')]"
      ]
     },
     "execution_count": 38,
     "metadata": {},
     "output_type": "execute_result"
    }
   ],
   "source": [
    "vc[0][0] = 1\n",
    "print(vc[0])\n",
    "\n",
    "v = vc[0]\n",
    "cv.inverse_transform(v)"
   ]
  },
  {
   "cell_type": "markdown",
   "metadata": {},
   "source": [
    "### Features in Bag of Words model\n",
    "- Unigrams\n",
    "- Bigrams, Trigrams\n",
    "- N-Grams"
   ]
  },
  {
   "cell_type": "code",
   "execution_count": 39,
   "metadata": {},
   "outputs": [
    {
     "name": "stdout",
     "output_type": "stream",
     "text": [
      "[0 0 0 1 1 1 0 0 0 1 1 1 1 1 1 0 0 0 0 0 0 0 0 1 1 1 0 0 0 1 0 0 0 0 0 0 0\n",
      " 0 0 0 0 0 0 0 0 0 0 0 0 0 0 0 0 0 0 1 1 1 0 0 0 0 0 0 1 1 1 0 0 0 0 0 0 1\n",
      " 1 1 0 0 1 1 1 1 1]\n",
      "83\n",
      "{'indian': 23, 'cricket': 9, 'team': 64, 'win': 75, 'world': 80, 'cup': 12, 'says': 55, 'capt': 3, 'virat': 73, 'kohli': 29, 'indian cricket': 24, 'cricket team': 10, 'team win': 65, 'win world': 78, 'world cup': 81, 'cup says': 13, 'says capt': 56, 'capt virat': 4, 'virat kohli': 74, 'indian cricket team': 25, 'cricket team win': 11, 'team win world': 66, 'win world cup': 79, 'world cup says': 82, 'cup says capt': 14, 'says capt virat': 57, 'capt virat kohli': 5, 'next': 39, 'lok': 33, 'sabha': 52, 'elections': 15, 'confident': 6, 'pm': 46, 'win next': 76, 'next lok': 40, 'lok sabha': 34, 'sabha elections': 53, 'elections says': 16, 'says confident': 58, 'confident indian': 7, 'indian pm': 26, 'win next lok': 77, 'next lok sabha': 41, 'lok sabha elections': 35, 'sabha elections says': 54, 'elections says confident': 17, 'says confident indian': 59, 'confident indian pm': 8, 'nobel': 42, 'laurate': 30, 'hearts': 21, 'people': 45, 'nobel laurate': 43, 'laurate hearts': 31, 'hearts people': 22, 'nobel laurate hearts': 44, 'laurate hearts people': 32, 'movie': 36, 'raazi': 47, 'exciting': 18, 'spy': 60, 'thriller': 67, 'based': 0, 'upon': 70, 'real': 50, 'story': 63, 'movie raazi': 37, 'raazi exciting': 48, 'exciting indian': 19, 'indian spy': 27, 'spy thriller': 61, 'thriller based': 68, 'based upon': 1, 'upon real': 71, 'real story': 51, 'movie raazi exciting': 38, 'raazi exciting indian': 49, 'exciting indian spy': 20, 'indian spy thriller': 28, 'spy thriller based': 62, 'thriller based upon': 69, 'based upon real': 2, 'upon real story': 72}\n"
     ]
    }
   ],
   "source": [
    "cv = CountVectorizer(tokenizer=myTokenizer, ngram_range=(1,3))\n",
    "vectorized_corpus = cv.fit_transform(corpus)\n",
    "vc = vectorized_corpus.toarray()\n",
    "print(vc[0])\n",
    "print(len(vc[0]))\n",
    "print(cv.vocabulary_)"
   ]
  },
  {
   "cell_type": "markdown",
   "metadata": {},
   "source": [
    "### TF-IDF Normalisation\n",
    "- Avoid features that occur very often, because they contain less information\n",
    "- Information decreases as the number of occurences increases across different type of documents\n",
    "- So we define another term - term-document-frequency which associates a weight with every term"
   ]
  },
  {
   "cell_type": "code",
   "execution_count": 40,
   "metadata": {},
   "outputs": [],
   "source": [
    "from sklearn.feature_extraction.text import TfidfVectorizer"
   ]
  },
  {
   "cell_type": "code",
   "execution_count": 42,
   "metadata": {},
   "outputs": [
    {
     "name": "stdout",
     "output_type": "stream",
     "text": [
      "[[0.         0.         0.23802376 0.23802376 0.         0.\n",
      "  0.23802376 0.23802376 0.23802376 0.23802376 0.         0.\n",
      "  0.         0.         0.         0.         0.15192748 0.23802376\n",
      "  0.         0.         0.23802376 0.         0.         0.\n",
      "  0.         0.         0.         0.         0.         0.\n",
      "  0.         0.         0.         0.         0.         0.\n",
      "  0.         0.         0.         0.18766067 0.23802376 0.\n",
      "  0.         0.         0.         0.23802376 0.23802376 0.\n",
      "  0.         0.         0.         0.23802376 0.23802376 0.18766067\n",
      "  0.         0.23802376 0.23802376 0.23802376]\n",
      " [0.         0.         0.         0.         0.25277526 0.25277526\n",
      "  0.         0.         0.         0.         0.25277526 0.25277526\n",
      "  0.         0.         0.         0.         0.16134317 0.\n",
      "  0.25277526 0.         0.         0.         0.         0.25277526\n",
      "  0.25277526 0.         0.         0.25277526 0.25277526 0.\n",
      "  0.         0.         0.25277526 0.         0.         0.\n",
      "  0.         0.25277526 0.25277526 0.19929092 0.         0.25277526\n",
      "  0.         0.         0.         0.         0.         0.\n",
      "  0.         0.         0.         0.         0.         0.19929092\n",
      "  0.25277526 0.         0.         0.        ]\n",
      " [0.         0.         0.         0.         0.         0.\n",
      "  0.         0.         0.         0.         0.         0.\n",
      "  0.         0.         0.37796447 0.37796447 0.         0.\n",
      "  0.         0.         0.         0.37796447 0.37796447 0.\n",
      "  0.         0.         0.         0.         0.         0.37796447\n",
      "  0.37796447 0.37796447 0.         0.         0.         0.\n",
      "  0.         0.         0.         0.         0.         0.\n",
      "  0.         0.         0.         0.         0.         0.\n",
      "  0.         0.         0.         0.         0.         0.\n",
      "  0.         0.         0.         0.        ]\n",
      " [0.23307927 0.23307927 0.         0.         0.         0.\n",
      "  0.         0.         0.         0.         0.         0.\n",
      "  0.23307927 0.23307927 0.         0.         0.14877148 0.\n",
      "  0.         0.23307927 0.         0.         0.         0.\n",
      "  0.         0.23307927 0.23307927 0.         0.         0.\n",
      "  0.         0.         0.         0.23307927 0.23307927 0.23307927\n",
      "  0.23307927 0.         0.         0.         0.         0.\n",
      "  0.23307927 0.23307927 0.23307927 0.         0.         0.23307927\n",
      "  0.23307927 0.23307927 0.23307927 0.         0.         0.\n",
      "  0.         0.         0.         0.        ]]\n"
     ]
    }
   ],
   "source": [
    "tfidf_vectorizer = TfidfVectorizer(tokenizer=myTokenizer,ngram_range=(1,2))\n",
    "vectorized_corpus = tfidf_vectorizer.fit_transform(corpus).toarray()\n",
    "\n",
    "print(vectorized_corpus)"
   ]
  },
  {
   "cell_type": "code",
   "execution_count": 43,
   "metadata": {},
   "outputs": [
    {
     "name": "stdout",
     "output_type": "stream",
     "text": [
      "{'indian': 16, 'cricket': 6, 'team': 45, 'win': 53, 'world': 56, 'cup': 8, 'says': 39, 'capt': 2, 'virat': 51, 'kohli': 20, 'indian cricket': 17, 'cricket team': 7, 'team win': 46, 'win world': 55, 'world cup': 57, 'cup says': 9, 'says capt': 40, 'capt virat': 3, 'virat kohli': 52, 'next': 27, 'lok': 23, 'sabha': 37, 'elections': 10, 'confident': 4, 'pm': 32, 'win next': 54, 'next lok': 28, 'lok sabha': 24, 'sabha elections': 38, 'elections says': 11, 'says confident': 41, 'confident indian': 5, 'indian pm': 18, 'nobel': 29, 'laurate': 21, 'hearts': 14, 'people': 31, 'nobel laurate': 30, 'laurate hearts': 22, 'hearts people': 15, 'movie': 25, 'raazi': 33, 'exciting': 12, 'spy': 42, 'thriller': 47, 'based': 0, 'upon': 49, 'real': 35, 'story': 44, 'movie raazi': 26, 'raazi exciting': 34, 'exciting indian': 13, 'indian spy': 19, 'spy thriller': 43, 'thriller based': 48, 'based upon': 1, 'upon real': 50, 'real story': 36}\n"
     ]
    }
   ],
   "source": [
    "print(tfidf_vectorizer.vocabulary_)"
   ]
  },
  {
   "cell_type": "code",
   "execution_count": null,
   "metadata": {},
   "outputs": [],
   "source": []
  }
 ],
 "metadata": {
  "kernelspec": {
   "display_name": "Python 3",
   "language": "python",
   "name": "python3"
  },
  "language_info": {
   "codemirror_mode": {
    "name": "ipython",
    "version": 3
   },
   "file_extension": ".py",
   "mimetype": "text/x-python",
   "name": "python",
   "nbconvert_exporter": "python",
   "pygments_lexer": "ipython3",
   "version": "3.6.6"
  }
 },
 "nbformat": 4,
 "nbformat_minor": 2
}
